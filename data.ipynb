{
 "cells": [
  {
   "cell_type": "code",
   "execution_count": 1,
   "id": "513277c4",
   "metadata": {},
   "outputs": [],
   "source": [
    "from dotenv import load_dotenv\n",
    "from binance.client import Client\n",
    "import os\n",
    "import pandas as pd\n",
    "import numpy as np\n",
    "\n",
    "load_dotenv()\n",
    "BINANCE_KEY = os.getenv(\"BINANCE_KEY\")\n",
    "BINANCE_SECRET = os.getenv(\"BINANCE_SECRET\")\n",
    "client = Client(\n",
    "            api_key=BINANCE_KEY,\n",
    "            api_secret=BINANCE_SECRET,\n",
    "            requests_params={\"timeout\": 100},\n",
    "        )"
   ]
  },
  {
   "cell_type": "code",
   "execution_count": 3,
   "id": "411f4e8c",
   "metadata": {},
   "outputs": [],
   "source": [
    "klines = client.futures_continous_klines(\n",
    "    pair='ETHUSDT',\n",
    "    contractType='PERPETUAL',\n",
    "    interval='1m',\n",
    "    limit=1000\n",
    ")\n",
    "\n"
   ]
  },
  {
   "cell_type": "code",
   "execution_count": 178,
   "id": "e8b510d1",
   "metadata": {},
   "outputs": [],
   "source": [
    "df_klines = pd.DataFrame(\n",
    "    klines,\n",
    "    columns=[\n",
    "        \"open_time\",\n",
    "        \"open\",\n",
    "        \"high\",\n",
    "        \"low\",\n",
    "        \"close\",\n",
    "        \"volume\",\n",
    "        \"close_time\",\n",
    "        \"quote_asset_volume\",\n",
    "        \"number_of_trades\",\n",
    "        \"taker_buy_base_asset_volume\",\n",
    "        \"taker_buy_quote_asset_volume\",\n",
    "        \"ignore\",\n",
    "    ],\n",
    "\n",
    ")\n",
    "df_klines['open_time'] = pd.to_datetime(df_klines['open_time'], unit='ms')\n",
    "df_klines['close_time'] = pd.to_datetime(df_klines['close_time'], unit='ms')\n",
    "df_klines = df_klines.astype(\n",
    "    dtype={\n",
    "        \"open\": \"float\",\n",
    "        \"high\": \"float\",\n",
    "        \"low\": \"float\",\n",
    "        \"close\": \"float\",\n",
    "        \"volume\": \"float\",\n",
    "        \"quote_asset_volume\": \"float\",\n",
    "        \"number_of_trades\": \"int\",\n",
    "        \"taker_buy_base_asset_volume\": \"float\",\n",
    "        \"taker_buy_quote_asset_volume\": \"float\",\n",
    "    }\n",
    ")\n",
    "df_klines.dtypes\n",
    "feature_extraction = df_klines[:700].copy()\n",
    "final_df = df_klines[700:].copy()"
   ]
  },
  {
   "cell_type": "code",
   "execution_count": 179,
   "id": "539ecb58",
   "metadata": {},
   "outputs": [],
   "source": [
    "feature_extraction.drop(columns=['ignore'], inplace=True)\n",
    "final_df.drop(columns=['ignore'], inplace=True)"
   ]
  },
  {
   "cell_type": "code",
   "execution_count": 170,
   "id": "74e0eed0",
   "metadata": {},
   "outputs": [],
   "source": [
    "from sklearn.neighbors import KNeighborsRegressor\n",
    "from sklearn.preprocessing import StandardScaler\n",
    "from sklearn.preprocessing import MinMaxScaler\n",
    "from sklearn.model_selection import train_test_split\n",
    "from sklearn.metrics import mean_squared_error\n",
    "from sklearn.pipeline import Pipeline\n",
    "from xgboost import XGBRegressor\n",
    "from sklearn.model_selection import GridSearchCV\n",
    "from sklearn.ensemble import RandomForestRegressor\n",
    "from sklearn.linear_model import Ridge\n",
    "from sklearn.svm import SVR"
   ]
  },
  {
   "cell_type": "markdown",
   "id": "d973362d",
   "metadata": {},
   "source": [
    "# KNN REGRESSION"
   ]
  },
  {
   "cell_type": "code",
   "execution_count": 171,
   "id": "74d3e664",
   "metadata": {},
   "outputs": [],
   "source": [
    "# feature_extraction['high-low'] = feature_extraction['high'] - feature_extraction['low']\n",
    "# feature_extraction['open-low'] = feature_extraction['open'] - feature_extraction['low']\n",
    "# feature_extraction['open-high'] = feature_extraction['open'] - feature_extraction['high']\n",
    "# feature_extraction['qav/vol'] = feature_extraction['quote_asset_volume'] / feature_extraction['volume']\n",
    "# feature_extraction['open+high-low'] = feature_extraction['open'] + feature_extraction['high'] - feature_extraction['low']"
   ]
  },
  {
   "cell_type": "code",
   "execution_count": 172,
   "id": "01140b5e",
   "metadata": {},
   "outputs": [
    {
     "name": "stdout",
     "output_type": "stream",
     "text": [
      "Fitting 5 folds for each of 12 candidates, totalling 60 fits\n",
      "Best parameters: {'SVR__C': 10, 'SVR__kernel': 'linear'}\n",
      "Best score: -0.5778951764573896\n",
      "Test MSE: 0.5431172061194276\n"
     ]
    }
   ],
   "source": [
    "knn_pipe = Pipeline([\n",
    "    ('scaler', StandardScaler()),\n",
    "    ('SVR', SVR())\n",
    "])\n",
    "grid_params = {\n",
    "    # 'rfr__n_estimators': [100,200,300],\n",
    "    # 'rfr__criterion': ['squared_error', 'absolute_error', 'friedman_mse', 'poisson'],\n",
    "    # 'rfr__algorithm': ['auto', 'ball_tree', 'kd_tree', 'brute'],\n",
    "    # 'rfr__leaf_size': [10, 20, 30],\n",
    "    # 'rfr__p': [1, 2,3],\n",
    "    # 'ridge__alpha': [0.1, 1, 10],\n",
    "    # 'ridge__fit_intercept': [True, False],\n",
    "    'SVR__kernel': ['linear', 'poly', 'rbf', 'sigmoid'],\n",
    "    'SVR__C': [0.1, 1, 10],\n",
    "}\n",
    "grid_search = GridSearchCV(\n",
    "    knn_pipe,\n",
    "    param_grid=grid_params,\n",
    "    scoring='neg_mean_squared_error',\n",
    "    cv=5,\n",
    "    verbose=1,\n",
    "    n_jobs=-1\n",
    ")\n",
    "X_train, X_test, y_train, y_test = train_test_split(\n",
    "    feature_extraction.drop(columns=['open_time', 'close_time', 'close']),\n",
    "    feature_extraction['close'],\n",
    "    test_size=0.2,\n",
    "    random_state=42\n",
    ")\n",
    "grid_search.fit(X_train, y_train)\n",
    "best_model = grid_search.best_estimator_\n",
    "print(f\"Best parameters: {grid_search.best_params_}\")\n",
    "print(f\"Best score: {grid_search.best_score_}\")\n",
    "y_pred = best_model.predict(X_test)\n",
    "mse = mean_squared_error(y_test, y_pred)\n",
    "print(f\"Test MSE: {mse}\")"
   ]
  },
  {
   "cell_type": "code",
   "execution_count": 173,
   "id": "898c38d7",
   "metadata": {},
   "outputs": [
    {
     "data": {
      "application/vnd.microsoft.datawrangler.viewer.v0+json": {
       "columns": [
        {
         "name": "index",
         "rawType": "int64",
         "type": "integer"
        },
        {
         "name": "open_time",
         "rawType": "datetime64[ns]",
         "type": "datetime"
        },
        {
         "name": "open",
         "rawType": "float64",
         "type": "float"
        },
        {
         "name": "high",
         "rawType": "float64",
         "type": "float"
        },
        {
         "name": "low",
         "rawType": "float64",
         "type": "float"
        },
        {
         "name": "close",
         "rawType": "float64",
         "type": "float"
        },
        {
         "name": "volume",
         "rawType": "float64",
         "type": "float"
        },
        {
         "name": "close_time",
         "rawType": "datetime64[ns]",
         "type": "datetime"
        },
        {
         "name": "quote_asset_volume",
         "rawType": "float64",
         "type": "float"
        },
        {
         "name": "number_of_trades",
         "rawType": "int64",
         "type": "integer"
        },
        {
         "name": "taker_buy_base_asset_volume",
         "rawType": "float64",
         "type": "float"
        },
        {
         "name": "taker_buy_quote_asset_volume",
         "rawType": "float64",
         "type": "float"
        },
        {
         "name": "svr_feature",
         "rawType": "float64",
         "type": "float"
        }
       ],
       "conversionMethod": "pd.DataFrame",
       "ref": "159114a3-6e53-4f1c-ba21-87a8617cc527",
       "rows": [
        [
         "700",
         "2025-04-16 17:53:00",
         "1561.0",
         "1563.68",
         "1560.22",
         "1561.36",
         "14754.187",
         "2025-04-16 17:53:59.999000",
         "23046477.24652",
         "9733",
         "9011.269",
         "14077291.6008",
         "1562.7488209050173"
        ],
        [
         "701",
         "2025-04-16 17:54:00",
         "1561.35",
         "1563.0",
         "1556.0",
         "1556.74",
         "10103.077",
         "2025-04-16 17:54:59.999000",
         "15755037.40529",
         "8423",
         "3821.342",
         "5959264.27256",
         "1558.46121819983"
        ],
        [
         "702",
         "2025-04-16 17:55:00",
         "1556.73",
         "1558.29",
         "1554.42",
         "1555.33",
         "22672.146",
         "2025-04-16 17:55:59.999000",
         "35288132.73287",
         "10763",
         "11878.494",
         "18489103.40631",
         "1556.4237787013724"
        ],
        [
         "703",
         "2025-04-16 17:56:00",
         "1555.34",
         "1556.16",
         "1552.04",
         "1554.02",
         "14903.318",
         "2025-04-16 17:56:59.999000",
         "23161515.72834",
         "10039",
         "5772.219",
         "8970947.38951",
         "1553.654728848461"
        ],
        [
         "704",
         "2025-04-16 17:57:00",
         "1554.02",
         "1554.77",
         "1540.0",
         "1541.25",
         "75509.766",
         "2025-04-16 17:57:59.999000",
         "116826557.52887",
         "33019",
         "22027.376",
         "34091158.14328",
         "1543.0729280325402"
        ]
       ],
       "shape": {
        "columns": 12,
        "rows": 5
       }
      },
      "text/html": [
       "<div>\n",
       "<style scoped>\n",
       "    .dataframe tbody tr th:only-of-type {\n",
       "        vertical-align: middle;\n",
       "    }\n",
       "\n",
       "    .dataframe tbody tr th {\n",
       "        vertical-align: top;\n",
       "    }\n",
       "\n",
       "    .dataframe thead th {\n",
       "        text-align: right;\n",
       "    }\n",
       "</style>\n",
       "<table border=\"1\" class=\"dataframe\">\n",
       "  <thead>\n",
       "    <tr style=\"text-align: right;\">\n",
       "      <th></th>\n",
       "      <th>open_time</th>\n",
       "      <th>open</th>\n",
       "      <th>high</th>\n",
       "      <th>low</th>\n",
       "      <th>close</th>\n",
       "      <th>volume</th>\n",
       "      <th>close_time</th>\n",
       "      <th>quote_asset_volume</th>\n",
       "      <th>number_of_trades</th>\n",
       "      <th>taker_buy_base_asset_volume</th>\n",
       "      <th>taker_buy_quote_asset_volume</th>\n",
       "      <th>svr_feature</th>\n",
       "    </tr>\n",
       "  </thead>\n",
       "  <tbody>\n",
       "    <tr>\n",
       "      <th>700</th>\n",
       "      <td>2025-04-16 17:53:00</td>\n",
       "      <td>1561.00</td>\n",
       "      <td>1563.68</td>\n",
       "      <td>1560.22</td>\n",
       "      <td>1561.36</td>\n",
       "      <td>14754.187</td>\n",
       "      <td>2025-04-16 17:53:59.999</td>\n",
       "      <td>2.304648e+07</td>\n",
       "      <td>9733</td>\n",
       "      <td>9011.269</td>\n",
       "      <td>1.407729e+07</td>\n",
       "      <td>1562.748821</td>\n",
       "    </tr>\n",
       "    <tr>\n",
       "      <th>701</th>\n",
       "      <td>2025-04-16 17:54:00</td>\n",
       "      <td>1561.35</td>\n",
       "      <td>1563.00</td>\n",
       "      <td>1556.00</td>\n",
       "      <td>1556.74</td>\n",
       "      <td>10103.077</td>\n",
       "      <td>2025-04-16 17:54:59.999</td>\n",
       "      <td>1.575504e+07</td>\n",
       "      <td>8423</td>\n",
       "      <td>3821.342</td>\n",
       "      <td>5.959264e+06</td>\n",
       "      <td>1558.461218</td>\n",
       "    </tr>\n",
       "    <tr>\n",
       "      <th>702</th>\n",
       "      <td>2025-04-16 17:55:00</td>\n",
       "      <td>1556.73</td>\n",
       "      <td>1558.29</td>\n",
       "      <td>1554.42</td>\n",
       "      <td>1555.33</td>\n",
       "      <td>22672.146</td>\n",
       "      <td>2025-04-16 17:55:59.999</td>\n",
       "      <td>3.528813e+07</td>\n",
       "      <td>10763</td>\n",
       "      <td>11878.494</td>\n",
       "      <td>1.848910e+07</td>\n",
       "      <td>1556.423779</td>\n",
       "    </tr>\n",
       "    <tr>\n",
       "      <th>703</th>\n",
       "      <td>2025-04-16 17:56:00</td>\n",
       "      <td>1555.34</td>\n",
       "      <td>1556.16</td>\n",
       "      <td>1552.04</td>\n",
       "      <td>1554.02</td>\n",
       "      <td>14903.318</td>\n",
       "      <td>2025-04-16 17:56:59.999</td>\n",
       "      <td>2.316152e+07</td>\n",
       "      <td>10039</td>\n",
       "      <td>5772.219</td>\n",
       "      <td>8.970947e+06</td>\n",
       "      <td>1553.654729</td>\n",
       "    </tr>\n",
       "    <tr>\n",
       "      <th>704</th>\n",
       "      <td>2025-04-16 17:57:00</td>\n",
       "      <td>1554.02</td>\n",
       "      <td>1554.77</td>\n",
       "      <td>1540.00</td>\n",
       "      <td>1541.25</td>\n",
       "      <td>75509.766</td>\n",
       "      <td>2025-04-16 17:57:59.999</td>\n",
       "      <td>1.168266e+08</td>\n",
       "      <td>33019</td>\n",
       "      <td>22027.376</td>\n",
       "      <td>3.409116e+07</td>\n",
       "      <td>1543.072928</td>\n",
       "    </tr>\n",
       "  </tbody>\n",
       "</table>\n",
       "</div>"
      ],
      "text/plain": [
       "              open_time     open     high      low    close     volume  \\\n",
       "700 2025-04-16 17:53:00  1561.00  1563.68  1560.22  1561.36  14754.187   \n",
       "701 2025-04-16 17:54:00  1561.35  1563.00  1556.00  1556.74  10103.077   \n",
       "702 2025-04-16 17:55:00  1556.73  1558.29  1554.42  1555.33  22672.146   \n",
       "703 2025-04-16 17:56:00  1555.34  1556.16  1552.04  1554.02  14903.318   \n",
       "704 2025-04-16 17:57:00  1554.02  1554.77  1540.00  1541.25  75509.766   \n",
       "\n",
       "                 close_time  quote_asset_volume  number_of_trades  \\\n",
       "700 2025-04-16 17:53:59.999        2.304648e+07              9733   \n",
       "701 2025-04-16 17:54:59.999        1.575504e+07              8423   \n",
       "702 2025-04-16 17:55:59.999        3.528813e+07             10763   \n",
       "703 2025-04-16 17:56:59.999        2.316152e+07             10039   \n",
       "704 2025-04-16 17:57:59.999        1.168266e+08             33019   \n",
       "\n",
       "     taker_buy_base_asset_volume  taker_buy_quote_asset_volume  svr_feature  \n",
       "700                     9011.269                  1.407729e+07  1562.748821  \n",
       "701                     3821.342                  5.959264e+06  1558.461218  \n",
       "702                    11878.494                  1.848910e+07  1556.423779  \n",
       "703                     5772.219                  8.970947e+06  1553.654729  \n",
       "704                    22027.376                  3.409116e+07  1543.072928  "
      ]
     },
     "execution_count": 173,
     "metadata": {},
     "output_type": "execute_result"
    }
   ],
   "source": [
    "final_df['svr_feature'] = best_model.predict(\n",
    "    final_df.drop(columns=['open_time', 'close_time', 'close'])\n",
    ")\n",
    "final_df.head()"
   ]
  },
  {
   "cell_type": "markdown",
   "id": "84e5bd47",
   "metadata": {},
   "source": [
    "# Calc'd features"
   ]
  },
  {
   "cell_type": "code",
   "execution_count": 174,
   "id": "308fc6b0",
   "metadata": {},
   "outputs": [],
   "source": [
    "final_df['high-low'] = final_df['high'] - final_df['low']\n",
    "final_df['open-low'] = final_df['open'] - final_df['low']\n",
    "final_df['open-high'] = final_df['open'] - final_df['high']\n",
    "final_df['qav/vol'] = final_df['quote_asset_volume'] / final_df['volume']\n",
    "final_df['open+high-low'] = final_df['open'] + final_df['high'] - final_df['low']\n",
    "# final_df['high/low'] = final_df['high'] / final_df['low']\n",
    "# final_df['open/low'] = final_df['open'] / final_df['low']\n",
    "# final_df['open/high'] = final_df['open'] / final_df['high']"
   ]
  },
  {
   "cell_type": "code",
   "execution_count": 180,
   "id": "ab707ea2",
   "metadata": {},
   "outputs": [],
   "source": [
    "final_df[\"sma_20\"] = final_df['close'].rolling(window=20).mean()\n",
    "final_df[\"sma_50\"] = final_df['close'].rolling(window=50).mean()"
   ]
  },
  {
   "cell_type": "markdown",
   "id": "3cc3636d",
   "metadata": {},
   "source": [
    "# CAT FEATURES"
   ]
  },
  {
   "cell_type": "code",
   "execution_count": 175,
   "id": "abfab228",
   "metadata": {},
   "outputs": [],
   "source": [
    "final_df['high_gt_1std_open50'] = (final_df['high'] > (final_df['open'] + 0.5*final_df['open'].std())).astype(int)"
   ]
  },
  {
   "cell_type": "code",
   "execution_count": 181,
   "id": "1a5cb619",
   "metadata": {},
   "outputs": [
    {
     "name": "stdout",
     "output_type": "stream",
     "text": [
      "RMSE: 1.480913926715554\n",
      "                        Feature  Importance\n",
      "1                          high    0.906478\n",
      "2                           low    0.091405\n",
      "9                        sma_50    0.000450\n",
      "8                        sma_20    0.000366\n",
      "5              number_of_trades    0.000284\n",
      "6   taker_buy_base_asset_volume    0.000257\n",
      "0                          open    0.000237\n",
      "3                        volume    0.000208\n",
      "7  taker_buy_quote_asset_volume    0.000163\n",
      "4            quote_asset_volume    0.000154\n"
     ]
    }
   ],
   "source": [
    "\n",
    "\n",
    "X_train, X_test, y_train, y_test = train_test_split(\n",
    "    final_df.drop(columns=['open_time', 'close_time', 'close']),\n",
    "    final_df['close'],\n",
    "    test_size=0.2,\n",
    "    random_state=42\n",
    ")\n",
    "\n",
    "pipeline = Pipeline([\n",
    "    ('scaler', MinMaxScaler()),\n",
    "    ('model', XGBRegressor(objective='reg:squarederror'))\n",
    "])\n",
    "pipeline.fit(X_train, y_train)\n",
    "y_pred = pipeline.predict(X_test)\n",
    "rmse = np.sqrt(mean_squared_error(y_test, y_pred))\n",
    "print(f\"RMSE: {rmse}\")\n",
    "\n",
    "feature_importances = pipeline.named_steps['model'].feature_importances_\n",
    "\n",
    "importance_df = pd.DataFrame({\n",
    "    'Feature': X_train.columns,\n",
    "    'Importance': feature_importances\n",
    "}).sort_values(by='Importance', ascending=False)\n",
    "\n",
    "print(importance_df)"
   ]
  },
  {
   "cell_type": "code",
   "execution_count": 177,
   "id": "ca260789",
   "metadata": {},
   "outputs": [],
   "source": [
    "csv_path = \"feature_importance_runs.csv\"\n",
    "\n",
    "# Determine the run number\n",
    "if os.path.exists(csv_path):\n",
    "    old = pd.read_csv(csv_path)\n",
    "    run = old[\"run\"].max() + 1\n",
    "else:\n",
    "    run = 0\n",
    "\n",
    "# Add run column\n",
    "importance_df[\"run\"] = run\n",
    "\n",
    "# Append to CSV\n",
    "importance_df.to_csv(csv_path, mode=\"a\", header=not os.path.exists(csv_path), index=False)"
   ]
  },
  {
   "cell_type": "code",
   "execution_count": 183,
   "id": "5da81da4",
   "metadata": {},
   "outputs": [
    {
     "data": {
      "application/vnd.microsoft.datawrangler.viewer.v0+json": {
       "columns": [
        {
         "name": "Feature",
         "rawType": "object",
         "type": "string"
        },
        {
         "name": "Importance",
         "rawType": "float64",
         "type": "float"
        },
        {
         "name": "run",
         "rawType": "float64",
         "type": "float"
        }
       ],
       "conversionMethod": "pd.DataFrame",
       "ref": "a600ee76-cdd5-42f5-bbd1-0286a9aae8a5",
       "rows": [
        [
         "high",
         "0.652072766875",
         "7.5"
        ],
        [
         "svr_feature",
         "0.32985866",
         "15.0"
        ],
        [
         "ridge_feature",
         "0.3156979",
         "13.5"
        ],
        [
         "rfr_feature",
         "0.23785145325",
         "10.5"
        ],
        [
         "qav/vol",
         "0.20398773863636366",
         "9.818181818181818"
        ],
        [
         "low",
         "0.060063735875",
         "7.5"
        ],
        [
         "open+high-low",
         "0.04767552442857143",
         "11.142857142857142"
        ],
        [
         "knn_feature",
         "0.013292881671428572",
         "4.571428571428571"
        ],
        [
         "open/low",
         "0.0008276298200000001",
         "5.0"
        ],
        [
         "open-low",
         "0.00038752998111111115",
         "9.666666666666666"
        ],
        [
         "open/high",
         "0.0002904809766666667",
         "5.0"
        ],
        [
         "open-high",
         "0.00020208641",
         "9.666666666666666"
        ],
        [
         "volume",
         "0.00018405475",
         "7.5"
        ],
        [
         "taker_buy_base_asset_volume",
         "0.00017392219025",
         "7.5"
        ],
        [
         "open",
         "0.000143731446625",
         "7.5"
        ],
        [
         "number_of_trades",
         "0.0001376923805",
         "7.5"
        ],
        [
         "taker_buy_quote_asset_volume",
         "0.000118423051125",
         "7.5"
        ],
        [
         "high/low",
         "8.4144198e-05",
         "5.0"
        ],
        [
         "high-low",
         "6.5109897e-05",
         "9.666666666666666"
        ],
        [
         "quote_asset_volume",
         "5.5448606812499996e-05",
         "7.5"
        ],
        [
         "high_gt_1std_open50",
         "0.0",
         "14.5"
        ]
       ],
       "shape": {
        "columns": 2,
        "rows": 21
       }
      },
      "text/html": [
       "<div>\n",
       "<style scoped>\n",
       "    .dataframe tbody tr th:only-of-type {\n",
       "        vertical-align: middle;\n",
       "    }\n",
       "\n",
       "    .dataframe tbody tr th {\n",
       "        vertical-align: top;\n",
       "    }\n",
       "\n",
       "    .dataframe thead th {\n",
       "        text-align: right;\n",
       "    }\n",
       "</style>\n",
       "<table border=\"1\" class=\"dataframe\">\n",
       "  <thead>\n",
       "    <tr style=\"text-align: right;\">\n",
       "      <th></th>\n",
       "      <th>Importance</th>\n",
       "      <th>run</th>\n",
       "    </tr>\n",
       "    <tr>\n",
       "      <th>Feature</th>\n",
       "      <th></th>\n",
       "      <th></th>\n",
       "    </tr>\n",
       "  </thead>\n",
       "  <tbody>\n",
       "    <tr>\n",
       "      <th>high</th>\n",
       "      <td>0.652073</td>\n",
       "      <td>7.500000</td>\n",
       "    </tr>\n",
       "    <tr>\n",
       "      <th>svr_feature</th>\n",
       "      <td>0.329859</td>\n",
       "      <td>15.000000</td>\n",
       "    </tr>\n",
       "    <tr>\n",
       "      <th>ridge_feature</th>\n",
       "      <td>0.315698</td>\n",
       "      <td>13.500000</td>\n",
       "    </tr>\n",
       "    <tr>\n",
       "      <th>rfr_feature</th>\n",
       "      <td>0.237851</td>\n",
       "      <td>10.500000</td>\n",
       "    </tr>\n",
       "    <tr>\n",
       "      <th>qav/vol</th>\n",
       "      <td>0.203988</td>\n",
       "      <td>9.818182</td>\n",
       "    </tr>\n",
       "    <tr>\n",
       "      <th>low</th>\n",
       "      <td>0.060064</td>\n",
       "      <td>7.500000</td>\n",
       "    </tr>\n",
       "    <tr>\n",
       "      <th>open+high-low</th>\n",
       "      <td>0.047676</td>\n",
       "      <td>11.142857</td>\n",
       "    </tr>\n",
       "    <tr>\n",
       "      <th>knn_feature</th>\n",
       "      <td>0.013293</td>\n",
       "      <td>4.571429</td>\n",
       "    </tr>\n",
       "    <tr>\n",
       "      <th>open/low</th>\n",
       "      <td>0.000828</td>\n",
       "      <td>5.000000</td>\n",
       "    </tr>\n",
       "    <tr>\n",
       "      <th>open-low</th>\n",
       "      <td>0.000388</td>\n",
       "      <td>9.666667</td>\n",
       "    </tr>\n",
       "    <tr>\n",
       "      <th>open/high</th>\n",
       "      <td>0.000290</td>\n",
       "      <td>5.000000</td>\n",
       "    </tr>\n",
       "    <tr>\n",
       "      <th>open-high</th>\n",
       "      <td>0.000202</td>\n",
       "      <td>9.666667</td>\n",
       "    </tr>\n",
       "    <tr>\n",
       "      <th>volume</th>\n",
       "      <td>0.000184</td>\n",
       "      <td>7.500000</td>\n",
       "    </tr>\n",
       "    <tr>\n",
       "      <th>taker_buy_base_asset_volume</th>\n",
       "      <td>0.000174</td>\n",
       "      <td>7.500000</td>\n",
       "    </tr>\n",
       "    <tr>\n",
       "      <th>open</th>\n",
       "      <td>0.000144</td>\n",
       "      <td>7.500000</td>\n",
       "    </tr>\n",
       "    <tr>\n",
       "      <th>number_of_trades</th>\n",
       "      <td>0.000138</td>\n",
       "      <td>7.500000</td>\n",
       "    </tr>\n",
       "    <tr>\n",
       "      <th>taker_buy_quote_asset_volume</th>\n",
       "      <td>0.000118</td>\n",
       "      <td>7.500000</td>\n",
       "    </tr>\n",
       "    <tr>\n",
       "      <th>high/low</th>\n",
       "      <td>0.000084</td>\n",
       "      <td>5.000000</td>\n",
       "    </tr>\n",
       "    <tr>\n",
       "      <th>high-low</th>\n",
       "      <td>0.000065</td>\n",
       "      <td>9.666667</td>\n",
       "    </tr>\n",
       "    <tr>\n",
       "      <th>quote_asset_volume</th>\n",
       "      <td>0.000055</td>\n",
       "      <td>7.500000</td>\n",
       "    </tr>\n",
       "    <tr>\n",
       "      <th>high_gt_1std_open50</th>\n",
       "      <td>0.000000</td>\n",
       "      <td>14.500000</td>\n",
       "    </tr>\n",
       "  </tbody>\n",
       "</table>\n",
       "</div>"
      ],
      "text/plain": [
       "                              Importance        run\n",
       "Feature                                            \n",
       "high                            0.652073   7.500000\n",
       "svr_feature                     0.329859  15.000000\n",
       "ridge_feature                   0.315698  13.500000\n",
       "rfr_feature                     0.237851  10.500000\n",
       "qav/vol                         0.203988   9.818182\n",
       "low                             0.060064   7.500000\n",
       "open+high-low                   0.047676  11.142857\n",
       "knn_feature                     0.013293   4.571429\n",
       "open/low                        0.000828   5.000000\n",
       "open-low                        0.000388   9.666667\n",
       "open/high                       0.000290   5.000000\n",
       "open-high                       0.000202   9.666667\n",
       "volume                          0.000184   7.500000\n",
       "taker_buy_base_asset_volume     0.000174   7.500000\n",
       "open                            0.000144   7.500000\n",
       "number_of_trades                0.000138   7.500000\n",
       "taker_buy_quote_asset_volume    0.000118   7.500000\n",
       "high/low                        0.000084   5.000000\n",
       "high-low                        0.000065   9.666667\n",
       "quote_asset_volume              0.000055   7.500000\n",
       "high_gt_1std_open50             0.000000  14.500000"
      ]
     },
     "execution_count": 183,
     "metadata": {},
     "output_type": "execute_result"
    }
   ],
   "source": [
    "feat_df = pd.read_csv(csv_path)\n",
    "\n",
    "feat_df.groupby('Feature').mean().sort_values('Importance', ascending=False)"
   ]
  },
  {
   "cell_type": "markdown",
   "id": "a6dab513",
   "metadata": {},
   "source": [
    "additional features: svr, ridge, rfr, qav/vol"
   ]
  },
  {
   "cell_type": "markdown",
   "id": "2d656c77",
   "metadata": {},
   "source": [
    "would require a pre-training df to not have data leakage"
   ]
  },
  {
   "cell_type": "code",
   "execution_count": 202,
   "id": "22987579",
   "metadata": {},
   "outputs": [
    {
     "ename": "TypeError",
     "evalue": "Client.futures_funding_rate() takes 1 positional argument but 2 were given",
     "output_type": "error",
     "traceback": [
      "\u001b[0;31m---------------------------------------------------------------------------\u001b[0m",
      "\u001b[0;31mTypeError\u001b[0m                                 Traceback (most recent call last)",
      "Cell \u001b[0;32mIn[202], line 8\u001b[0m\n\u001b[1;32m      1\u001b[0m funding_params \u001b[38;5;241m=\u001b[39m {\n\u001b[1;32m      2\u001b[0m             \u001b[38;5;124m\"\u001b[39m\u001b[38;5;124msymbol\u001b[39m\u001b[38;5;124m\"\u001b[39m: \u001b[38;5;124m'\u001b[39m\u001b[38;5;124mETHUSDT\u001b[39m\u001b[38;5;124m'\u001b[39m,\n\u001b[1;32m      3\u001b[0m             \u001b[38;5;124m\"\u001b[39m\u001b[38;5;124mlimit\u001b[39m\u001b[38;5;124m\"\u001b[39m: \u001b[38;5;241m1000\u001b[39m\n\u001b[0;32m   (...)\u001b[0m\n\u001b[1;32m      6\u001b[0m             \u001b[38;5;66;03m# \"interval\": interval,\u001b[39;00m\n\u001b[1;32m      7\u001b[0m         }\n\u001b[0;32m----> 8\u001b[0m \u001b[43mclient\u001b[49m\u001b[38;5;241;43m.\u001b[39;49m\u001b[43mfutures_funding_rate\u001b[49m\u001b[43m(\u001b[49m\n\u001b[1;32m      9\u001b[0m \u001b[43m    \u001b[49m\u001b[43mfunding_params\u001b[49m\n\u001b[1;32m     10\u001b[0m \u001b[43m            \u001b[49m\u001b[38;5;66;43;03m# time_col=\"fundingTime\",\u001b[39;49;00m\n\u001b[1;32m     11\u001b[0m \u001b[43m            \u001b[49m\u001b[38;5;66;43;03m# resample_rule=formatted_resample_rule,\u001b[39;49;00m\n\u001b[1;32m     12\u001b[0m \u001b[43m            \u001b[49m\u001b[38;5;66;43;03m# cols_to_keep=[\"fundingRate\"],\u001b[39;49;00m\n\u001b[1;32m     13\u001b[0m \u001b[43m            \u001b[49m\u001b[38;5;66;43;03m# value_cast={\"fundingRate\": float},\u001b[39;49;00m\n\u001b[1;32m     14\u001b[0m \u001b[43m)\u001b[49m\n",
      "\u001b[0;31mTypeError\u001b[0m: Client.futures_funding_rate() takes 1 positional argument but 2 were given"
     ]
    }
   ],
   "source": [
    "funding_params = {\n",
    "            \"symbol\": 'ETHUSDT',\n",
    "            \"limit\": 1000\n",
    "            # \"startTime\": int(start_time.timestamp() * 1000),\n",
    "            # \"endTime\": int(end_time.timestamp() * 1000),\n",
    "            # \"interval\": interval,\n",
    "        }\n",
    "client.futures_funding_rate(\n",
    "    funding_params\n",
    "            # time_col=\"fundingTime\",\n",
    "            # resample_rule=formatted_resample_rule,\n",
    "            # cols_to_keep=[\"fundingRate\"],\n",
    "            # value_cast={\"fundingRate\": float},\n",
    ")"
   ]
  },
  {
   "cell_type": "code",
   "execution_count": 200,
   "id": "d249088e",
   "metadata": {},
   "outputs": [
    {
     "data": {
      "text/plain": [
       "[{'symbol': 'BTCUSDT',\n",
       "  'fundingTime': 1744848000001,\n",
       "  'fundingRate': '0.00001404',\n",
       "  'markPrice': '83994.18360000'}]"
      ]
     },
     "execution_count": 200,
     "metadata": {},
     "output_type": "execute_result"
    }
   ],
   "source": [
    "client.futures_funding_rate(\n",
    "symbol='BTCUSDT',\n",
    "limit=1\n",
    ")"
   ]
  },
  {
   "cell_type": "code",
   "execution_count": 207,
   "id": "6c1ebe30",
   "metadata": {},
   "outputs": [
    {
     "data": {
      "text/plain": [
       "[{'symbol': 'BTCUSDT',\n",
       "  'sumOpenInterest': '76322.68800000',\n",
       "  'sumOpenInterestValue': '6421200325.12909800',\n",
       "  'timestamp': 1744851300000}]"
      ]
     },
     "execution_count": 207,
     "metadata": {},
     "output_type": "execute_result"
    }
   ],
   "source": [
    "client.futures_open_interest_hist(\n",
    "    symbol='BTCUSDT', limit=1, period='5m'\n",
    ")"
   ]
  }
 ],
 "metadata": {
  "kernelspec": {
   "display_name": "Python 3",
   "language": "python",
   "name": "python3"
  },
  "language_info": {
   "codemirror_mode": {
    "name": "ipython",
    "version": 3
   },
   "file_extension": ".py",
   "mimetype": "text/x-python",
   "name": "python",
   "nbconvert_exporter": "python",
   "pygments_lexer": "ipython3",
   "version": "3.12.8"
  }
 },
 "nbformat": 4,
 "nbformat_minor": 5
}
